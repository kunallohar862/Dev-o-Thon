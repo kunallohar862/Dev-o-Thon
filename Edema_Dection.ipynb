{
  "nbformat": 4,
  "nbformat_minor": 0,
  "metadata": {
    "colab": {
      "provenance": [],
      "mount_file_id": "1w0XHhDVSMfTGt63M5mK4ggMqhOCn86wr",
      "authorship_tag": "ABX9TyMb9OdXas1AJUCoiHvlpQb/",
      "include_colab_link": true
    },
    "kernelspec": {
      "name": "python3",
      "display_name": "Python 3"
    },
    "language_info": {
      "name": "python"
    }
  },
  "cells": [
    {
      "cell_type": "markdown",
      "metadata": {
        "id": "view-in-github",
        "colab_type": "text"
      },
      "source": [
        "<a href=\"https://colab.research.google.com/github/kunallohar862/Dev-o-Thon/blob/main/Edema_Dection.ipynb\" target=\"_parent\"><img src=\"https://colab.research.google.com/assets/colab-badge.svg\" alt=\"Open In Colab\"/></a>"
      ]
    },
    {
      "cell_type": "code",
      "execution_count": 84,
      "metadata": {
        "id": "aaNUEyM7653n"
      },
      "outputs": [],
      "source": [
        "import os\n",
        "import cv2\n",
        "import numpy as np\n",
        "import pandas as pd\n",
        "import matplotlib.pyplot as plt\n",
        "import tqdm\n",
        "from PIL import Image\n",
        "import tensorflow as tf\n",
        "from tensorflow.keras.models  import Sequential\n",
        "from tensorflow.keras.layers import Conv2D,MaxPooling2D,Flatten,Dense,BatchNormalization\n",
        "import seaborn as sns\n",
        "from sklearn.metrics import confusion_matrix"
      ]
    },
    {
      "cell_type": "code",
      "source": [
        "data_path = '/content/drive/MyDrive/Colab Notebooks/Dev-o-Thon/archive/img_data'\n",
        "files = os.listdir(data_path)"
      ],
      "metadata": {
        "id": "fcLaAXBt6-2C"
      },
      "execution_count": 61,
      "outputs": []
    },
    {
      "cell_type": "code",
      "source": [
        "dataLabel = {0:'NoEdemea', 1:'Edema'}"
      ],
      "metadata": {
        "id": "_2-Agi4a7Bml"
      },
      "execution_count": 62,
      "outputs": []
    },
    {
      "cell_type": "code",
      "source": [
        "image_array = []\n",
        "label_array = []\n",
        "\n",
        "label_mapping = {}\n",
        "\n",
        "for index, subfolder in enumerate(os.listdir(data_path)):\n",
        "    subfolder_path = os.path.join(data_path, subfolder)\n",
        "\n",
        "    if os.path.isdir(subfolder_path):\n",
        "        label_mapping[subfolder] = index\n",
        "\n",
        "        for image_file in tqdm.tqdm(os.listdir(subfolder_path)):\n",
        "            image_path = os.path.join(subfolder_path, image_file)\n",
        "            image = cv2.imread(image_path)\n",
        "            resized_image = cv2.resize(image, (62, 62))\n",
        "            image_array.append(resized_image)\n",
        "            label_array.append(index)\n",
        "\n",
        "image_array = np.array(image_array)\n",
        "label_array = np.array(label_array)\n",
        "\n",
        "print(\"Shape of the image array:\", image_array.shape)\n",
        "print(\"Shape of the label array:\", label_array.shape)"
      ],
      "metadata": {
        "colab": {
          "base_uri": "https://localhost:8080/"
        },
        "id": "rXv37Dzml8hv",
        "outputId": "5e543f55-90fd-4c22-8d6a-7fe2a42f004e"
      },
      "execution_count": 63,
      "outputs": [
        {
          "output_type": "stream",
          "name": "stderr",
          "text": [
            "100%|██████████| 500/500 [00:14<00:00, 34.23it/s]\n",
            "100%|██████████| 500/500 [00:14<00:00, 34.70it/s]"
          ]
        },
        {
          "output_type": "stream",
          "name": "stdout",
          "text": [
            "Shape of the image array: (1000, 62, 62, 3)\n",
            "Shape of the label array: (1000,)\n"
          ]
        },
        {
          "output_type": "stream",
          "name": "stderr",
          "text": [
            "\n"
          ]
        }
      ]
    },
    {
      "cell_type": "code",
      "source": [
        "label_to_text={0:\"NoEdema\",1:\"Edema\"}\n",
        "label_to_text[1]"
      ],
      "metadata": {
        "colab": {
          "base_uri": "https://localhost:8080/",
          "height": 36
        },
        "id": "1g7KzMF-_3MT",
        "outputId": "8d4a9d6c-9b3c-4305-b783-1a2dd214f150"
      },
      "execution_count": 66,
      "outputs": [
        {
          "output_type": "execute_result",
          "data": {
            "text/plain": [
              "'Edema'"
            ],
            "application/vnd.google.colaboratory.intrinsic+json": {
              "type": "string"
            }
          },
          "metadata": {},
          "execution_count": 66
        }
      ]
    },
    {
      "cell_type": "code",
      "source": [
        "from sklearn.model_selection import train_test_split\n",
        "X_train,X_test,Y_train,Y_test=train_test_split(image_array,label_array,test_size=0.2)"
      ],
      "metadata": {
        "id": "EkRtJE-yhzrz"
      },
      "execution_count": 67,
      "outputs": []
    },
    {
      "cell_type": "code",
      "source": [
        "import tensorflow as tf\n",
        "from tensorflow.keras.models  import Sequential\n",
        "from tensorflow.keras.layers import Conv2D,MaxPooling2D,Flatten,Dense,BatchNormalization\n",
        "\n",
        "model=Sequential()\n",
        "\n",
        "model.add(Conv2D(32,input_shape=(62,62,3),kernel_size=(3,3),activation='relu',padding='same'))\n",
        "model.add(MaxPooling2D(pool_size=2))\n",
        "\n",
        "model.add(Conv2D(64,kernel_size=(3,3),activation='relu',padding='same'))\n",
        "model.add(MaxPooling2D(pool_size=2))\n",
        "\n",
        "model.add(Conv2D(64,kernel_size=(3,3),activation='relu',padding='same'))\n",
        "model.add(MaxPooling2D(pool_size=2))\n",
        "\n",
        "model.add(Conv2D(32,kernel_size=(3,3),activation='relu',padding='same'))\n",
        "model.add(MaxPooling2D(pool_size=2))\n",
        "\n",
        "model.add(Conv2D(32,kernel_size=(3,3),activation='relu',padding='same'))\n",
        "model.add(MaxPooling2D(pool_size=2))\n",
        "\n",
        "\n",
        "model.add(Flatten())\n",
        "\n",
        "# model.add(Dense(32,activation='relu'))\n",
        "model.add(BatchNormalization())\n",
        "\n",
        "model.add(Dense(16,activation='relu'))\n",
        "model.add(BatchNormalization())\n",
        "\n",
        "model.add(Dense(8,activation='relu'))\n",
        "model.add(BatchNormalization())\n",
        "\n",
        "model.add(Dense(4,activation='relu'))\n",
        "model.add(BatchNormalization())\n",
        "\n",
        "\n",
        "model.add(Dense(2,activation='relu'))\n",
        "model.add(BatchNormalization())\n",
        "\n",
        "model.add(Dense(1,activation='sigmoid'))\n",
        "\n",
        "model.compile(optimizer='adam',loss='binary_crossentropy',metrics=['accuracy'])"
      ],
      "metadata": {
        "id": "IMuD4bMNDJr2"
      },
      "execution_count": 68,
      "outputs": []
    },
    {
      "cell_type": "code",
      "source": [
        "# create a model checkpoint to save model\n",
        "ckp_path=\"trained_model/model\"\n",
        "model_checkpoint=tf.keras.callbacks.ModelCheckpoint(filepath=ckp_path,\n",
        "                                                   monitor=\"val_mae\",\n",
        "                                                   save_best_only=True,\n",
        "                                                   save_weights_only=True,\n",
        "                                                   mode=\"auto\")\n",
        "# this checkpoint save model when val_mae is lower then best val_mae\n",
        "#run\n"
      ],
      "metadata": {
        "id": "WA9WQltQKVCx"
      },
      "execution_count": 69,
      "outputs": []
    },
    {
      "cell_type": "code",
      "source": [
        "# now we will define learning rate reducer\n",
        "reduce_lr=tf.keras.callbacks.ReduceLROnPlateau(factor=0.9,\n",
        "                                              monitor=\"val_mae\",\n",
        "                                              mode=\"auto\",\n",
        "                                              cooldown=0,\n",
        "                                              patience=5,\n",
        "                                              verbose=1,\n",
        "                                              min_lr=1e-6)\n",
        "# this will decrease learning rate when val_mae does't decrease durning last 5 epoch\n",
        "# verbose is use to show val_mae every epoch"
      ],
      "metadata": {
        "id": "XP3tfSL2LL1l"
      },
      "execution_count": 70,
      "outputs": []
    },
    {
      "cell_type": "code",
      "source": [
        "EPOCHS=10\n",
        "BATCH_SIZE=64\n",
        "# start training\n",
        "history=model.fit(X_train,Y_train,\n",
        "                 validation_data=(X_test,Y_test),\n",
        "                 batch_size=BATCH_SIZE,\n",
        "                 epochs=EPOCHS,\n",
        "                 callbacks=[model_checkpoint,reduce_lr])\n",
        "#run"
      ],
      "metadata": {
        "colab": {
          "base_uri": "https://localhost:8080/"
        },
        "id": "1mmZJSrii9kt",
        "outputId": "ea976225-bf7f-4bdf-9fd4-f6be08c27287"
      },
      "execution_count": 75,
      "outputs": [
        {
          "output_type": "stream",
          "name": "stdout",
          "text": [
            "Epoch 1/10\n",
            "13/13 [==============================] - ETA: 0s - loss: 0.3702 - accuracy: 0.8562"
          ]
        },
        {
          "output_type": "stream",
          "name": "stderr",
          "text": [
            "WARNING:tensorflow:Can save best model only with val_mae available, skipping.\n",
            "WARNING:tensorflow:Learning rate reduction is conditioned on metric `val_mae` which is not available. Available metrics are: loss,accuracy,val_loss,val_accuracy,lr\n"
          ]
        },
        {
          "output_type": "stream",
          "name": "stdout",
          "text": [
            "\b\b\b\b\b\b\b\b\b\b\b\b\b\b\b\b\b\b\b\b\b\b\b\b\b\b\b\b\b\b\b\b\b\b\b\b\b\b\b\b\b\b\b\b\b\b\b\b\b\b\b\b\b\b\b\b\b\b\b\b\b\b\b\b\b\b\b\b\b\b\b\b\b\b\b\b\b\b\b\b\b\b\r13/13 [==============================] - 5s 357ms/step - loss: 0.3702 - accuracy: 0.8562 - val_loss: 0.8046 - val_accuracy: 0.5300 - lr: 0.0010\n",
            "Epoch 2/10\n",
            "13/13 [==============================] - ETA: 0s - loss: 0.3331 - accuracy: 0.8900"
          ]
        },
        {
          "output_type": "stream",
          "name": "stderr",
          "text": [
            "WARNING:tensorflow:Can save best model only with val_mae available, skipping.\n",
            "WARNING:tensorflow:Learning rate reduction is conditioned on metric `val_mae` which is not available. Available metrics are: loss,accuracy,val_loss,val_accuracy,lr\n"
          ]
        },
        {
          "output_type": "stream",
          "name": "stdout",
          "text": [
            "\b\b\b\b\b\b\b\b\b\b\b\b\b\b\b\b\b\b\b\b\b\b\b\b\b\b\b\b\b\b\b\b\b\b\b\b\b\b\b\b\b\b\b\b\b\b\b\b\b\b\b\b\b\b\b\b\b\b\b\b\b\b\b\b\b\b\b\b\b\b\b\b\b\b\b\b\b\b\b\b\b\b\r13/13 [==============================] - 5s 376ms/step - loss: 0.3331 - accuracy: 0.8900 - val_loss: 0.9184 - val_accuracy: 0.5300 - lr: 0.0010\n",
            "Epoch 3/10\n",
            "13/13 [==============================] - ETA: 0s - loss: 0.3101 - accuracy: 0.9050"
          ]
        },
        {
          "output_type": "stream",
          "name": "stderr",
          "text": [
            "WARNING:tensorflow:Can save best model only with val_mae available, skipping.\n",
            "WARNING:tensorflow:Learning rate reduction is conditioned on metric `val_mae` which is not available. Available metrics are: loss,accuracy,val_loss,val_accuracy,lr\n"
          ]
        },
        {
          "output_type": "stream",
          "name": "stdout",
          "text": [
            "\b\b\b\b\b\b\b\b\b\b\b\b\b\b\b\b\b\b\b\b\b\b\b\b\b\b\b\b\b\b\b\b\b\b\b\b\b\b\b\b\b\b\b\b\b\b\b\b\b\b\b\b\b\b\b\b\b\b\b\b\b\b\b\b\b\b\b\b\b\b\b\b\b\b\b\b\b\b\b\b\b\b\r13/13 [==============================] - 6s 441ms/step - loss: 0.3101 - accuracy: 0.9050 - val_loss: 0.8154 - val_accuracy: 0.5850 - lr: 0.0010\n",
            "Epoch 4/10\n",
            "13/13 [==============================] - ETA: 0s - loss: 0.3002 - accuracy: 0.9050"
          ]
        },
        {
          "output_type": "stream",
          "name": "stderr",
          "text": [
            "WARNING:tensorflow:Can save best model only with val_mae available, skipping.\n",
            "WARNING:tensorflow:Learning rate reduction is conditioned on metric `val_mae` which is not available. Available metrics are: loss,accuracy,val_loss,val_accuracy,lr\n"
          ]
        },
        {
          "output_type": "stream",
          "name": "stdout",
          "text": [
            "\b\b\b\b\b\b\b\b\b\b\b\b\b\b\b\b\b\b\b\b\b\b\b\b\b\b\b\b\b\b\b\b\b\b\b\b\b\b\b\b\b\b\b\b\b\b\b\b\b\b\b\b\b\b\b\b\b\b\b\b\b\b\b\b\b\b\b\b\b\b\b\b\b\b\b\b\b\b\b\b\b\b\r13/13 [==============================] - 5s 357ms/step - loss: 0.3002 - accuracy: 0.9050 - val_loss: 0.8389 - val_accuracy: 0.5400 - lr: 0.0010\n",
            "Epoch 5/10\n",
            "13/13 [==============================] - ETA: 0s - loss: 0.2938 - accuracy: 0.9025"
          ]
        },
        {
          "output_type": "stream",
          "name": "stderr",
          "text": [
            "WARNING:tensorflow:Can save best model only with val_mae available, skipping.\n",
            "WARNING:tensorflow:Learning rate reduction is conditioned on metric `val_mae` which is not available. Available metrics are: loss,accuracy,val_loss,val_accuracy,lr\n"
          ]
        },
        {
          "output_type": "stream",
          "name": "stdout",
          "text": [
            "\b\b\b\b\b\b\b\b\b\b\b\b\b\b\b\b\b\b\b\b\b\b\b\b\b\b\b\b\b\b\b\b\b\b\b\b\b\b\b\b\b\b\b\b\b\b\b\b\b\b\b\b\b\b\b\b\b\b\b\b\b\b\b\b\b\b\b\b\b\b\b\b\b\b\b\b\b\b\b\b\b\b\r13/13 [==============================] - 6s 445ms/step - loss: 0.2938 - accuracy: 0.9025 - val_loss: 0.7559 - val_accuracy: 0.6450 - lr: 0.0010\n",
            "Epoch 6/10\n",
            "13/13 [==============================] - ETA: 0s - loss: 0.2960 - accuracy: 0.8988"
          ]
        },
        {
          "output_type": "stream",
          "name": "stderr",
          "text": [
            "WARNING:tensorflow:Can save best model only with val_mae available, skipping.\n",
            "WARNING:tensorflow:Learning rate reduction is conditioned on metric `val_mae` which is not available. Available metrics are: loss,accuracy,val_loss,val_accuracy,lr\n"
          ]
        },
        {
          "output_type": "stream",
          "name": "stdout",
          "text": [
            "\b\b\b\b\b\b\b\b\b\b\b\b\b\b\b\b\b\b\b\b\b\b\b\b\b\b\b\b\b\b\b\b\b\b\b\b\b\b\b\b\b\b\b\b\b\b\b\b\b\b\b\b\b\b\b\b\b\b\b\b\b\b\b\b\b\b\b\b\b\b\b\b\b\b\b\b\b\b\b\b\b\b\r13/13 [==============================] - 5s 392ms/step - loss: 0.2960 - accuracy: 0.8988 - val_loss: 0.5577 - val_accuracy: 0.7600 - lr: 0.0010\n",
            "Epoch 7/10\n",
            "13/13 [==============================] - ETA: 0s - loss: 0.2863 - accuracy: 0.9062"
          ]
        },
        {
          "output_type": "stream",
          "name": "stderr",
          "text": [
            "WARNING:tensorflow:Can save best model only with val_mae available, skipping.\n",
            "WARNING:tensorflow:Learning rate reduction is conditioned on metric `val_mae` which is not available. Available metrics are: loss,accuracy,val_loss,val_accuracy,lr\n"
          ]
        },
        {
          "output_type": "stream",
          "name": "stdout",
          "text": [
            "\b\b\b\b\b\b\b\b\b\b\b\b\b\b\b\b\b\b\b\b\b\b\b\b\b\b\b\b\b\b\b\b\b\b\b\b\b\b\b\b\b\b\b\b\b\b\b\b\b\b\b\b\b\b\b\b\b\b\b\b\b\b\b\b\b\b\b\b\b\b\b\b\b\b\b\b\b\b\b\b\b\b\r13/13 [==============================] - 5s 375ms/step - loss: 0.2863 - accuracy: 0.9062 - val_loss: 0.4931 - val_accuracy: 0.7850 - lr: 0.0010\n",
            "Epoch 8/10\n",
            "13/13 [==============================] - ETA: 0s - loss: 0.2594 - accuracy: 0.9250"
          ]
        },
        {
          "output_type": "stream",
          "name": "stderr",
          "text": [
            "WARNING:tensorflow:Can save best model only with val_mae available, skipping.\n",
            "WARNING:tensorflow:Learning rate reduction is conditioned on metric `val_mae` which is not available. Available metrics are: loss,accuracy,val_loss,val_accuracy,lr\n"
          ]
        },
        {
          "output_type": "stream",
          "name": "stdout",
          "text": [
            "\b\b\b\b\b\b\b\b\b\b\b\b\b\b\b\b\b\b\b\b\b\b\b\b\b\b\b\b\b\b\b\b\b\b\b\b\b\b\b\b\b\b\b\b\b\b\b\b\b\b\b\b\b\b\b\b\b\b\b\b\b\b\b\b\b\b\b\b\b\b\b\b\b\b\b\b\b\b\b\b\b\b\r13/13 [==============================] - 6s 508ms/step - loss: 0.2594 - accuracy: 0.9250 - val_loss: 0.5860 - val_accuracy: 0.7200 - lr: 0.0010\n",
            "Epoch 9/10\n",
            "13/13 [==============================] - ETA: 0s - loss: 0.2421 - accuracy: 0.9362"
          ]
        },
        {
          "output_type": "stream",
          "name": "stderr",
          "text": [
            "WARNING:tensorflow:Can save best model only with val_mae available, skipping.\n",
            "WARNING:tensorflow:Learning rate reduction is conditioned on metric `val_mae` which is not available. Available metrics are: loss,accuracy,val_loss,val_accuracy,lr\n"
          ]
        },
        {
          "output_type": "stream",
          "name": "stdout",
          "text": [
            "\b\b\b\b\b\b\b\b\b\b\b\b\b\b\b\b\b\b\b\b\b\b\b\b\b\b\b\b\b\b\b\b\b\b\b\b\b\b\b\b\b\b\b\b\b\b\b\b\b\b\b\b\b\b\b\b\b\b\b\b\b\b\b\b\b\b\b\b\b\b\b\b\b\b\b\b\b\b\b\b\b\b\r13/13 [==============================] - 5s 371ms/step - loss: 0.2421 - accuracy: 0.9362 - val_loss: 0.6182 - val_accuracy: 0.7150 - lr: 0.0010\n",
            "Epoch 10/10\n",
            "13/13 [==============================] - ETA: 0s - loss: 0.2251 - accuracy: 0.9413"
          ]
        },
        {
          "output_type": "stream",
          "name": "stderr",
          "text": [
            "WARNING:tensorflow:Can save best model only with val_mae available, skipping.\n",
            "WARNING:tensorflow:Learning rate reduction is conditioned on metric `val_mae` which is not available. Available metrics are: loss,accuracy,val_loss,val_accuracy,lr\n"
          ]
        },
        {
          "output_type": "stream",
          "name": "stdout",
          "text": [
            "\b\b\b\b\b\b\b\b\b\b\b\b\b\b\b\b\b\b\b\b\b\b\b\b\b\b\b\b\b\b\b\b\b\b\b\b\b\b\b\b\b\b\b\b\b\b\b\b\b\b\b\b\b\b\b\b\b\b\b\b\b\b\b\b\b\b\b\b\b\b\b\b\b\b\b\b\b\b\b\b\b\b\r13/13 [==============================] - 6s 476ms/step - loss: 0.2251 - accuracy: 0.9413 - val_loss: 0.4489 - val_accuracy: 0.8150 - lr: 0.0010\n"
          ]
        }
      ]
    },
    {
      "cell_type": "code",
      "source": [
        "# Save the model architecture as JSON\n",
        "model_json = model.to_json()\n",
        "with open(\"model_architecture.json\", \"w\") as json_file:\n",
        "    json_file.write(model_json)\n",
        "\n",
        "# Save the model weights\n",
        "model.save_weights(\"model_weights.h5\")\n",
        "\n",
        "print(\"Model architecture and weights saved successfully.\")"
      ],
      "metadata": {
        "colab": {
          "base_uri": "https://localhost:8080/"
        },
        "id": "GSflvNIujBwL",
        "outputId": "12a51f31-c08d-4b55-e420-de39594fcc87"
      },
      "execution_count": 76,
      "outputs": [
        {
          "output_type": "stream",
          "name": "stdout",
          "text": [
            "Model architecture and weights saved successfully.\n"
          ]
        }
      ]
    },
    {
      "cell_type": "code",
      "source": [
        "plt.plot(history.history['accuracy'])\n",
        "plt.plot(history.history['val_accuracy'])\n",
        "plt.title('Model Accuracy')\n",
        "plt.ylabel('Accuracy')\n",
        "plt.xlabel('Epoch')\n",
        "plt.legend(['Train', 'Validation'], loc='upper left')\n",
        "plt.show()"
      ],
      "metadata": {
        "colab": {
          "base_uri": "https://localhost:8080/",
          "height": 472
        },
        "id": "fu6240iWzRXw",
        "outputId": "31772dda-e948-4162-a410-5dfbe5b08179"
      },
      "execution_count": 79,
      "outputs": [
        {
          "output_type": "display_data",
          "data": {
            "text/plain": [
              "<Figure size 640x480 with 1 Axes>"
            ],
            "image/png": "[encoded data removed]"
          },
          "metadata": {}
        }
      ]
    },
    {
      "cell_type": "code",
      "source": [
        "plt.plot(history.history['loss'])\n",
        "plt.plot(history.history['val_loss'])\n",
        "plt.title('Model Loss')\n",
        "plt.ylabel('Loss')\n",
        "plt.xlabel('Epoch')\n",
        "plt.legend(['Train', 'Validation'], loc='upper left')\n",
        "plt.show()"
      ],
      "metadata": {
        "colab": {
          "base_uri": "https://localhost:8080/",
          "height": 472
        },
        "id": "mSM91NWnzVfA",
        "outputId": "052f11d9-3034-4bb9-a989-7e4ee58954f6"
      },
      "execution_count": 80,
      "outputs": [
        {
          "output_type": "display_data",
          "data": {
            "text/plain": [
              "<Figure size 640x480 with 1 Axes>"
            ],
            "image/png": "[encoded data removed]"
          },
          "metadata": {}
        }
      ]
    },
    {
      "cell_type": "code",
      "source": [
        "y_pred = model.predict(X_test)\n",
        "y_pred_binary = [int(round(p[0])) for p in y_pred]\n",
        "cm = confusion_matrix(Y_test, y_pred_binary)\n",
        "sns.heatmap(cm, annot=True, fmt=\"d\", cmap=\"Blues\")\n",
        "plt.xlabel(\"Predicted Label\")\n",
        "plt.ylabel(\"True Label\")\n",
        "plt.title(\"Confusion Matrix\")\n",
        "plt.show()"
      ],
      "metadata": {
        "colab": {
          "base_uri": "https://localhost:8080/",
          "height": 489
        },
        "id": "oHVyyWwrziFS",
        "outputId": "53c614f9-82e5-4e97-f466-9ced81e5696e"
      },
      "execution_count": 85,
      "outputs": [
        {
          "output_type": "stream",
          "name": "stdout",
          "text": [
            "7/7 [==============================] - 0s 47ms/step\n"
          ]
        },
        {
          "output_type": "display_data",
          "data": {
            "text/plain": [
              "<Figure size 640x480 with 2 Axes>"
            ],
            "image/png": "[encoded data removed]"
          },
          "metadata": {}
        }
      ]
    },
    {
      "cell_type": "code",
      "source": [
        "from sklearn.metrics import accuracy_score\n",
        "accuracy = accuracy_score(Y_test, y_pred_binary)\n",
        "print(\"Accuracy:\", accuracy)"
      ],
      "metadata": {
        "colab": {
          "base_uri": "https://localhost:8080/"
        },
        "id": "RAZzCZ_1z2Xs",
        "outputId": "3f25a0a2-d38a-4fb2-ce6e-7b01e24556c8"
      },
      "execution_count": 87,
      "outputs": [
        {
          "output_type": "stream",
          "name": "stdout",
          "text": [
            "Accuracy: 0.815\n"
          ]
        }
      ]
    },
    {
      "cell_type": "code",
      "source": [
        "with open('model_architecture.json', 'r') as json_file:\n",
        "    model_json = json_file.read()\n",
        "\n",
        "model = tf.keras.models.model_from_json(model_json)\n",
        "model.load_weights('model_weights.h5')\n",
        "\n",
        "image_path = '/content/drive/MyDrive/Colab Notebooks/Dev-o-Thon/archive/img_data/NoEdema/00000005_000.png'\n",
        "image = cv2.imread(image_path)\n",
        "resized_image = cv2.resize(image, (62, 62))\n",
        "image_array = np.array([resized_image])\n",
        "\n",
        "prediction = model.predict(image_array)\n",
        "predicted_label = label_to_text[int(round(prediction[0][0]))]\n",
        "\n",
        "print(\"Predicted label:\", predicted_label)"
      ],
      "metadata": {
        "colab": {
          "base_uri": "https://localhost:8080/"
        },
        "id": "81AoUi2b2qsT",
        "outputId": "9bfddf31-2627-4e77-e2ae-32181b42c5d7"
      },
      "execution_count": 99,
      "outputs": [
        {
          "output_type": "stream",
          "name": "stdout",
          "text": [
            "1/1 [==============================] - 0s 201ms/step\n",
            "Predicted label: NoEdema\n"
          ]
        }
      ]
    },
    {
      "cell_type": "code",
      "source": [],
      "metadata": {
        "id": "soc3dikW1zCx"
      },
      "execution_count": null,
      "outputs": []
    }
  ]
}